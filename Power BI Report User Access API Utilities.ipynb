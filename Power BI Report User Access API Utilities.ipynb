{
 "cells": [
  {
   "cell_type": "markdown",
   "id": "110942fb",
   "metadata": {},
   "source": [
    "<a id='top_cell'></a>\n",
    "# Power BI Report User Access Utilities\n",
    "\n",
    "* [Find email for name(s)](#find_email)\n",
    "* [View a person's report permissions](#get_artifiact_access)\n",
    "* [Search for a report's workspace](#search_report_workspace)\n",
    "* [Who has permissions to particular report](#get_report_access)"
   ]
  },
  {
   "cell_type": "code",
   "execution_count": null,
   "id": "610b7066",
   "metadata": {},
   "outputs": [],
   "source": [
    "# Import modules needed to make API calls\n",
    "import requests\n",
    "import json\n",
    "import pandas as pd\n",
    "import pyodbc"
   ]
  },
  {
   "cell_type": "code",
   "execution_count": null,
   "id": "3d7d9d3c",
   "metadata": {},
   "outputs": [],
   "source": [
    "connect_file = json.load(open('data_config_git.json'))\n",
    "data_sources = connect_file['data_sources']['db_name']['connection_string']"
   ]
  },
  {
   "cell_type": "code",
   "execution_count": null,
   "id": "6b37ed5d",
   "metadata": {},
   "outputs": [],
   "source": [
    "cnxn = pyodbc.connect(data_sources)\n",
    "cursor = cnxn.cursor()"
   ]
  },
  {
   "cell_type": "code",
   "execution_count": null,
   "id": "c166db17",
   "metadata": {},
   "outputs": [],
   "source": [
    "# Graph & PBI API shared variables\n",
    "access_token_url = 'https://login.microsoftonline.com/'\n",
    "tenant_id = connect_file['data_sources']['common_api']['tenant_id']\n",
    "full_token_url = access_token_url + tenant_id + '/oauth2/token'\n",
    "headers_token = {'Content_Type': 'application/x-www-form-urlencoded'}\n",
    "# Graph API variables\n",
    "client_id_graph = connect_file['data_sources']['graph_api']['client_id_graph']\n",
    "client_secret_graph = connect_file['data_sources']['graph_api']['client_secret_graph']\n",
    "body_token_graph = {\n",
    "    'grant_type': 'client_credentials',\n",
    "    'client_id': client_id_graph,\n",
    "    'client_secret': client_secret_graph,\n",
    "    'resource': 'https://graph.microsoft.com'\n",
    "    }    \n",
    "headers_get_graph = ''\n",
    "# PBI API variables\n",
    "client_id_pbi = connect_file['data_sources']['pbi_api']['client_id_pbi']\n",
    "client_secret_pbi = connect_file['data_sources']['pbi_api']['client_secret_pbi']\n",
    "body_token_pbi = {\n",
    "    'grant_type': 'client_credentials',\n",
    "    'client_id': client_id_pbi,\n",
    "    'client_secret': client_secret_pbi,\n",
    "    'resource': 'https://analysis.windows.net/powerbi/api'\n",
    "}\n",
    "headers_get_pbi = ''\n",
    "\n",
    "# Post for Graph API token\n",
    "def post_for_bearer_api_graph():\n",
    "    global headers_get_graph\n",
    "    post_url = full_token_url\n",
    "    response = requests.post(\n",
    "        post_url, \n",
    "        headers = headers_token, \n",
    "        data = body_token_graph).json()\n",
    "    access_token_graph = 'Bearer ' + response['access_token']\n",
    "    headers_get_graph = {'Authorization': access_token_graph}\n",
    "    headers_get_graph['ConsistencyLevel'] = 'eventual'\n",
    "    return\n",
    "\n",
    "# Get Graph API\n",
    "def get_api_graph(base_url):\n",
    "    if len(headers_get_graph) == 0: # authorization token is empty\n",
    "        post_for_bearer_api_graph()\n",
    "    response = requests.get(\n",
    "        base_url, headers = headers_get_graph)\n",
    "    return response.json()\n",
    "\n",
    "# Post for Power BI API token\n",
    "def post_for_bearer_api_pbi():\n",
    "    global headers_get_pbi\n",
    "    post_url = full_token_url\n",
    "    response = requests.post(\n",
    "        post_url, \n",
    "        headers = headers_token, \n",
    "        data = body_token_pbi).json()\n",
    "    access_token_pbi = 'Bearer ' + response['access_token']\n",
    "    headers_get_pbi = {'Authorization': access_token_pbi}\n",
    "    return\n",
    "\n",
    "# Get Power BI API\n",
    "def get_api_pbi(base_url):\n",
    "    if len(headers_get_pbi) == 0: # authorization token is empty\n",
    "        post_for_bearer_api_pbi()\n",
    "    response = requests.get(\n",
    "        base_url, headers = headers_get_pbi)\n",
    "    return response.json()"
   ]
  },
  {
   "cell_type": "markdown",
   "id": "ec5c875a",
   "metadata": {},
   "source": [
    "<a id='find_email'></a>\n",
    "## For list of names, return email addresses\n",
    "[Return to Top](#top_cell)"
   ]
  },
  {
   "cell_type": "code",
   "execution_count": null,
   "id": "060ad670",
   "metadata": {},
   "outputs": [],
   "source": [
    "# Provide string of names to look up, choose uniquest names\n",
    "name_string = 'Alexander, McDonald, Lewis, Lester'\n",
    "name_list = []\n",
    "email_list = []\n",
    "email_domain = '@domain.com'\n",
    "name_list = name_string.split(',')\n",
    "name_list = [s.strip() for s in name_list]\n",
    "\n",
    "for n in name_list:\n",
    "    base_url_names = 'https://graph.microsoft.com/v1.0/users?$search=\"displayName:' + n + '\"'\n",
    "    next_link = True\n",
    "    call_number = 1\n",
    "    while next_link == True:\n",
    "        user_email = get_api_graph(base_url_names)\n",
    "        try:\n",
    "            base_url_names = user_email['@odata.nextLink']\n",
    "            call_number += 1\n",
    "        except:\n",
    "            next_link = False\n",
    "        for e in user_email['value']:\n",
    "            if email_domain in e['mail'].lower():\n",
    "                email_list.append(e['mail'])\n",
    "\n",
    "email_list"
   ]
  },
  {
   "cell_type": "code",
   "execution_count": null,
   "id": "139435e0",
   "metadata": {},
   "outputs": [],
   "source": [
    "# Write list to string of email addresses to paste into Outlook\n",
    "'; '.join(email_list)"
   ]
  },
  {
   "cell_type": "markdown",
   "id": "5894a0fe",
   "metadata": {},
   "source": [
    "<a id='get_artifiact_access'></a>\n",
    "## Get User Artifact Access\n",
    "[Return to Top](#top_cell)"
   ]
  },
  {
   "cell_type": "code",
   "execution_count": null,
   "id": "cf6bda3a",
   "metadata": {},
   "outputs": [],
   "source": [
    "# String of email addresses to search for\n",
    "email_string = 'jdoe@domain.com, clewis@domain.com'\n",
    "email_list = []\n",
    "email_list = email_string.split(',')\n",
    "email_list = [s.strip() for s in email_list]\n",
    "artifact_dict = {}\n",
    "\n",
    "for e in email_list:\n",
    "    base_url_artifact = 'https://api.powerbi.com/v1.0/myorg/admin/users/' \\\n",
    "        + e + '/artifactAccess'\n",
    "    continuationUri = True\n",
    "    call_number = 1\n",
    "    artifact_dict[e] = {}\n",
    "    while continuationUri == True:\n",
    "        artifact_access = get_api_pbi(base_url_artifact)\n",
    "        try:\n",
    "            base_url_artifact = artifact_access['continuationUri']\n",
    "            call_number += 1\n",
    "        except:\n",
    "            continuationUri = False\n",
    "        for a in artifact_access['ArtifactAccessEntities']:\n",
    "            artifact_dict[e].update({a['displayName']: a['artifactId']})"
   ]
  },
  {
   "cell_type": "code",
   "execution_count": null,
   "id": "16d77d1f",
   "metadata": {},
   "outputs": [],
   "source": [
    "artifact_dict"
   ]
  },
  {
   "cell_type": "code",
   "execution_count": null,
   "id": "834c5459",
   "metadata": {},
   "outputs": [],
   "source": [
    "# Create dataframe from artifact_dict\n",
    "df = pd.DataFrame.from_dict(artifact_dict, orient = 'index')\n",
    "df.index.name = 'email'\n",
    "df.reset_index(inplace = True)\n",
    "df1 = (df.set_index([\"email\"])\n",
    "         .stack()\n",
    "         .reset_index(name='artifactId')\n",
    "         .rename(columns={'level_1':'report'}))\n",
    "# df1"
   ]
  },
  {
   "cell_type": "code",
   "execution_count": null,
   "id": "3bf9a4f7",
   "metadata": {
    "scrolled": true
   },
   "outputs": [],
   "source": [
    "# Search for specific report\n",
    "report_name = 'Book Sales Report' # Report name to search for\n",
    "report_found = df1.loc[df1['report'].str.contains(report_name, case=False)]\n",
    "report_found"
   ]
  },
  {
   "cell_type": "markdown",
   "id": "f42d664f",
   "metadata": {},
   "source": [
    "<a id='search_report_workspace'></a>\n",
    "## Search for a Report's Workspace\n",
    "Knowing that a user has access to <report name> is not enough given that some report names are repeated in multiple workspaces. The following cells will help you to discover which workspace holds the report that the user has access to.\n",
    "\n",
    "Microsoft's API currently does not enable searching the tenant for an artifict id. These cells rely on a view built on a sql table logging the Power BI activity events. The PBI activity events logs activities such as report views and records the report and the containing workspace. The view groups these to get a list of all workspaces & their reports. Obviously this depends on the activity events having recorded views of for all reports.\n",
    "    \n",
    "https://learn.microsoft.com/en-us/rest/api/power-bi/admin/get-activity-events\n",
    "    \n",
    "Note that the artifactId might be the dataset OR report ID, thus the query searches both columns for the ID.\n",
    "\n",
    "[Return to Top](#top_cell)"
   ]
  },
  {
   "cell_type": "code",
   "execution_count": null,
   "id": "565bbd0b",
   "metadata": {
    "scrolled": true
   },
   "outputs": [],
   "source": [
    "# artifactId taken from previous cell\n",
    "artifact_id = '<id>'\n",
    "sql = \"\"\"\n",
    "    SELECT * \n",
    "    FROM dbo.v_PbiActivityEventLog\n",
    "    WHERE ReportId = ?\n",
    "      OR DatasetId = ?\n",
    "    \"\"\"\n",
    "val = (artifact_id, artifact_id)\n",
    "cursor.execute(sql, val)\n",
    "rows = cursor.fetchall()\n",
    "for row in rows:\n",
    "    print(row.WorkSpaceName)    "
   ]
  },
  {
   "cell_type": "markdown",
   "id": "17f09b0b",
   "metadata": {},
   "source": [
    "<a id='get_report_access'></a>\n",
    "## Who Has Report Access\n",
    "The following blocks will get the users/groups for the app, and you will need to manually narrow down the user search to the appropriate group(s).\n",
    "\n",
    "[Return to Top](#top_cell)"
   ]
  },
  {
   "cell_type": "code",
   "execution_count": null,
   "id": "417ddbc2",
   "metadata": {},
   "outputs": [],
   "source": [
    "# Get the list of Apps in the tenant\n",
    "base_url_apps = 'https://api.powerbi.com/v1.0/myorg/admin/apps?$top=5000'\n",
    "apps = get_api_pbi(base_url_apps)"
   ]
  },
  {
   "cell_type": "code",
   "execution_count": null,
   "id": "f9452b1f",
   "metadata": {
    "scrolled": true
   },
   "outputs": [],
   "source": [
    "# Search for a particular App name to get ID by name\n",
    "app_search_name = 'Book Sales Reporting' # Name of App in question\n",
    "for i in apps['value']:\n",
    "    if i['name'] == app_search_name:\n",
    "        print('The id for App {name} is {id}'\n",
    "              .format(name = i['name'], id = i['id']))\n",
    "#         app_id = i['id']"
   ]
  },
  {
   "cell_type": "code",
   "execution_count": null,
   "id": "c9ddfa20",
   "metadata": {},
   "outputs": [],
   "source": [
    "# Get users of this app ID\n",
    "app_id = '<id>' # ID from previous cell\n",
    "base_url_app_member = 'https://api.powerbi.com/v1.0/myorg/admin/apps/' \\\n",
    "    + app_id + '/users'\n",
    "app_members = get_api_pbi(base_url_app_member)"
   ]
  },
  {
   "cell_type": "code",
   "execution_count": null,
   "id": "d7e0c822",
   "metadata": {},
   "outputs": [],
   "source": [
    "app_members"
   ]
  },
  {
   "cell_type": "code",
   "execution_count": null,
   "id": "bd07a4de",
   "metadata": {},
   "outputs": [],
   "source": [
    "# Write individual users' email to a list\n",
    "member_email_list = []\n",
    "\n",
    "for i in app_members['value']:\n",
    "    if i['principalType'] != 'Group' and i['principalType'] != 'App':\n",
    "        member_email_list.append(i['emailAddress'])\n",
    "member_email_list"
   ]
  },
  {
   "cell_type": "code",
   "execution_count": null,
   "id": "15f309b9",
   "metadata": {},
   "outputs": [],
   "source": [
    "# Return groups who have access to App\n",
    "app_user_group_list = []\n",
    "for i in app_members['value']:\n",
    "    if i['principalType'] == 'Group':\n",
    "        print(i['displayName'],i['graphId'])"
   ]
  },
  {
   "cell_type": "code",
   "execution_count": null,
   "id": "b2f36544",
   "metadata": {},
   "outputs": [],
   "source": [
    "# Search groups for individual users & append to earlier list\n",
    "group_id_list = [ # Target groups from previous cell\n",
    "                '<id_1>',\n",
    "                '<id_2>'\n",
    "                ]\n",
    "\n",
    "for g in group_id_list:\n",
    "    base_url_groups = 'https://graph.microsoft.com/v1.0/groups/' \\\n",
    "        + g + '/members'\n",
    "    next_link = True\n",
    "    call_number = 1\n",
    "    while next_link == True:\n",
    "        group_user_email = get_api_graph(base_url_groups)\n",
    "        try:\n",
    "            base_url_groups = group_user_email['@odata.nextLink']\n",
    "            call_number += 1\n",
    "        except:\n",
    "            next_link = False\n",
    "        for e in group_user_email['value']:\n",
    "            member_email_list.append(e['mail'])\n",
    "\n",
    "member_email_list"
   ]
  },
  {
   "cell_type": "code",
   "execution_count": null,
   "id": "794dddc8",
   "metadata": {},
   "outputs": [],
   "source": [
    "# Write list to string of email addresses for use in Outlook\n",
    "'; '.join(member_email_list)"
   ]
  }
 ],
 "metadata": {
  "kernelspec": {
   "display_name": "Python 3 (ipykernel)",
   "language": "python",
   "name": "python3"
  },
  "language_info": {
   "codemirror_mode": {
    "name": "ipython",
    "version": 3
   },
   "file_extension": ".py",
   "mimetype": "text/x-python",
   "name": "python",
   "nbconvert_exporter": "python",
   "pygments_lexer": "ipython3",
   "version": "3.9.5"
  }
 },
 "nbformat": 4,
 "nbformat_minor": 5
}
